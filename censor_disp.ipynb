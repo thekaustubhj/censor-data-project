{
 "cells": [
  {
   "cell_type": "markdown",
   "metadata": {},
   "source": [
    "# Censor Dispenser\n",
    "\n",
    "You’ve recently gotten a job working in the IT department at one of Silicon Valley’s hottest new startups, AirWeb. The company is developing a state-of-the-art artificial intelligence engine designed to help provide a new perspective on the world’s problems. Interestingly, very few people know the details of AirWeb ‘s work and the company is very secretive about its technology, even to its own investors.\n",
    "\n",
    "You report directly to the Head of Product, a person named Mr. Cloudy, and he has a very important task for you. You see, every month, the head researchers down in the lab send an email to the board of investors to tell them about the status of the project. Cloudy wants you to intercept these emails and censor any “proprietary information” included in them.\n"
   ]
  },
  {
   "cell_type": "code",
   "execution_count": 16,
   "metadata": {},
   "outputs": [
    {
     "name": "stdout",
     "output_type": "stream",
     "text": [
      "Good Morning, Board of Investors,\n",
      "\n",
      "Progress is going great!\n",
      "\n",
      "We have made great strides in the last month improving the learning algorithms that the system has been using to acquire information. Now, the system is learning faster than ever and we are hard pressed to continue to find new information to feed it and sustain its growth.\n",
      "\n",
      "Soon, we'll expand the scope of the learning algorithms and connect the system with the internet. This will allow it to find and determine the information it needs to continue growing.\n",
      "\n",
      "Every month we come closer to achieving our goal of making the world a better place. Famine, plague, war, and poverty are all conquerable with the power of our system!\n",
      "\n",
      "Till next month,\n",
      "Francine, Head Scientist\n",
      "\n",
      "<class 'str'>\n"
     ]
    }
   ],
   "source": [
    "email_one = open(\"email_one.txt\", \"r\").read()\n",
    "email_two = open(\"email_two.txt\", \"r\").read()\n",
    "email_three = open(\"email_three.txt\", \"r\").read()\n",
    "email_four = open(\"email_four.txt\", \"r\").read()\n",
    "\n",
    "print(email_one)\n",
    "print(type(email_one))"
   ]
  },
  {
   "cell_type": "markdown",
   "metadata": {},
   "source": [
    "Write a function that can censor a specific word or phrase from a body of text, and then return the text.\n",
    "\n",
    "Mr. Cloudy has asked you to use the function to censor all instances of the phrase learning algorithms from the first email, email_one. Mr. Cloudy doesn’t care how you censor it, he just wants it done.\n"
   ]
  },
  {
   "cell_type": "code",
   "execution_count": 60,
   "metadata": {},
   "outputs": [
    {
     "name": "stdout",
     "output_type": "stream",
     "text": [
      "Good Morning, Board ** Investors,\n",
      "\n",
      "Progress ** going great!\n",
      "\n",
      "** **** made great strides ** *** last month improving *** ******************* **** *** ****** *** **** using ** acquire information. ***, *** ****** ** learning faster than ever *** ** are hard pressed ** continue ** find new information ** feed ** *** sustain its growth.\n",
      "\n",
      "Soon, **'ll expand *** scope ** *** ******************* *** connect *** ****** with *** internet. **** **** allow ** ** find *** determine *** information ** needs ** continue growing.\n",
      "\n",
      "Every month ** come closer ** achieving our goal ** making *** world * better place. Famine, plague, war, *** poverty are *** conquerable with *** ***** ** our ******!\n",
      "\n",
      "Till next month,\n",
      "Francine, Head Scientist\n",
      "\n"
     ]
    }
   ],
   "source": [
    "# We will censor by finding the length of the word and then replacing it with the same number of *\n",
    "import re\n",
    "\n",
    "def censor(email) : \n",
    "    #Censor lists\n",
    "    original_list = ['learning algorithms', 'algorithms']\n",
    "    proprietary_terms = [\"she\", \"personality matrix\", \"sense of self\", \"self-preservation\", \"learning algorithm\", \"her\", \"herself\"]\n",
    "    negative_words = [\"concerned\", \"behind\", \"danger\", \"dangerous\", \"alarming\", \"alarmed\", \"out of control\", \"help\", \"unhappy\", \"bad\", \"upset\", \"awful\", \"broken\", \"damage\", \"damaging\", \"dismal\", \"distressed\", \"distressed\", \"concerning\", \"horrible\", \"horribly\", \"questionable\"]\n",
    "    bad_email = email_four.lower()\n",
    "    email_four_tokenized = bad_email.split(' ')\n",
    "    \n",
    "    \n",
    "    censor_list = original_list + proprietary_terms + negative_words + email_four_tokenized\n",
    "        \n",
    "    for word in censor_list :\n",
    "        word_regex = r'\\b(?=\\w)' + word + r'\\b(?!\\w)'\n",
    "        censor_word = '*'*len(word)\n",
    "        email = re.sub(word_regex, censor_word, email, flags = re.I)\n",
    "    \n",
    "    return email\n",
    "\n",
    "test = censor(email_one)\n",
    "\n",
    "print(test)"
   ]
  },
  {
   "cell_type": "code",
   "execution_count": null,
   "metadata": {},
   "outputs": [],
   "source": []
  },
  {
   "cell_type": "code",
   "execution_count": null,
   "metadata": {},
   "outputs": [],
   "source": []
  }
 ],
 "metadata": {
  "kernelspec": {
   "display_name": "Python 3",
   "language": "python",
   "name": "python3"
  },
  "language_info": {
   "codemirror_mode": {
    "name": "ipython",
    "version": 3
   },
   "file_extension": ".py",
   "mimetype": "text/x-python",
   "name": "python",
   "nbconvert_exporter": "python",
   "pygments_lexer": "ipython3",
   "version": "3.7.6"
  }
 },
 "nbformat": 4,
 "nbformat_minor": 2
}
